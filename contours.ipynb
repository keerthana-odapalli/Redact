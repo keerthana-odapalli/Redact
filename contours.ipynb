{
 "cells": [
  {
   "cell_type": "code",
   "execution_count": 3,
   "id": "7f63a2a6",
   "metadata": {},
   "outputs": [
    {
     "name": "stdout",
     "output_type": "stream",
     "text": [
      "Requirement already satisfied: pytesseract in c:\\users\\dell\\.anaconda\\lib\\site-packages (0.3.13)\n",
      "Requirement already satisfied: packaging>=21.3 in c:\\users\\dell\\.anaconda\\lib\\site-packages (from pytesseract) (23.1)\n",
      "Requirement already satisfied: Pillow>=8.0.0 in c:\\users\\dell\\.anaconda\\lib\\site-packages (from pytesseract) (10.0.1)\n",
      "Note: you may need to restart the kernel to use updated packages.\n"
     ]
    }
   ],
   "source": [
    "pip install pytesseract\n"
   ]
  },
  {
   "cell_type": "code",
   "execution_count": 4,
   "id": "e2a4a244",
   "metadata": {},
   "outputs": [],
   "source": [
    "# OCR initialization\n",
    "pytesseract.pytesseract.tesseract_cmd = r'C:\\Program Files\\Tesseract-OCR\\tesseract.exe'\n",
    "\n",
    "extracted_text = []\n",
    "for contour in contours:\n",
    "    x, y, w, h = cv2.boundingRect(contour)\n",
    "    roi = gray[y:y+h, x:x+w]\n",
    "    text = pytesseract.image_to_string(roi, lang='eng')\n",
    "    extracted_text.append({\"text\": text.strip(), \"bbox\": (x, y, w, h)})"
   ]
  },
  {
   "cell_type": "code",
   "execution_count": 7,
   "id": "768ec4b6",
   "metadata": {},
   "outputs": [
    {
     "name": "stdout",
     "output_type": "stream",
     "text": [
      "Redacted image saved to redacted_image.jpg\n",
      "Extracted text saved to extracted_data.json\n"
     ]
    }
   ],
   "source": [
    "import cv2\n",
    "import pytesseract\n",
    "import numpy as np\n",
    "import json\n",
    "\n",
    "# Input and Output File Paths\n",
    "input_image_path = 'big_aa74620d2b7f8754c17a894cca921a9075843bbd.jpg'\n",
    "output_image_path = 'redacted_image.jpg'\n",
    "output_json_path = 'extracted_data.json'\n",
    "\n",
    "# Load the image\n",
    "image = cv2.imread(input_image_path)\n",
    "gray = cv2.cvtColor(image, cv2.COLOR_BGR2GRAY)\n",
    "\n",
    "# Threshold the image to binary\n",
    "_, thresh = cv2.threshold(gray, 150, 255, cv2.THRESH_BINARY_INV)\n",
    "\n",
    "# Reduce kernel size for dilation\n",
    "kernel = cv2.getStructuringElement(cv2.MORPH_RECT, (7, 7))  # Smaller kernel for finer segmentation\n",
    "dilated = cv2.dilate(thresh, kernel, iterations=1)\n",
    "\n",
    "# Find contours\n",
    "contours, _ = cv2.findContours(dilated, cv2.RETR_EXTERNAL, cv2.CHAIN_APPROX_SIMPLE)\n",
    "\n",
    "# Function to split wide contours\n",
    "def split_wide_contour(contour, gray_image, max_width_ratio=1.5):\n",
    "    x, y, w, h = cv2.boundingRect(contour)\n",
    "    aspect_ratio = w / h\n",
    "    boxes = []\n",
    "\n",
    "    if aspect_ratio > max_width_ratio:  # If the contour is too wide\n",
    "        # Use vertical projection to find gaps (white spaces)\n",
    "        roi = gray_image[y:y+h, x:x+w]\n",
    "        vertical_projection = np.sum(roi, axis=0)  # Sum pixel values column-wise\n",
    "        split_indices = np.where(vertical_projection < np.max(vertical_projection) * 0.2)[0]\n",
    "\n",
    "        # Split the box at detected gaps\n",
    "        start_idx = 0\n",
    "        for idx in split_indices:\n",
    "            if idx - start_idx > 10:  # Ignore very small splits\n",
    "                boxes.append((x + start_idx, y, idx - start_idx, h))\n",
    "                start_idx = idx\n",
    "        if start_idx < w:\n",
    "            boxes.append((x + start_idx, y, w - start_idx, h))\n",
    "    else:\n",
    "        boxes.append((x, y, w, h))  # Single box if aspect ratio is fine\n",
    "\n",
    "    return boxes\n",
    "\n",
    "# Process contours and redact sensitive words\n",
    "redacted_image = image.copy()\n",
    "extracted_text = []\n",
    "for contour in contours:\n",
    "    bounding_boxes = split_wide_contour(contour, gray)  # Split wide contours if needed\n",
    "\n",
    "    for x, y, w, h in bounding_boxes:\n",
    "        if w > 10 and h > 10:  # Filter out small noise\n",
    "            # Extract text\n",
    "            roi = gray[y:y+h, x:x+w]\n",
    "            try:\n",
    "                custom_config = r'--oem 3 --psm 6'\n",
    "                text = pytesseract.image_to_string(roi, lang='eng', config=custom_config).strip()\n",
    "                extracted_text.append({\"text\": text, \"bbox\": (x, y, w, h)})\n",
    "\n",
    "                # Example redaction logic\n",
    "                sensitive_words = [\"sensitive\", \"redact\", \"example\",\"buddy\",\"the\"]  # Add your sensitive words\n",
    "                if any(word in text.lower() for word in sensitive_words):\n",
    "                    cv2.rectangle(redacted_image, (x, y), (x + w, y + h), (0, 0, 0), -1)  # Black out sensitive word\n",
    "                else:\n",
    "                    cv2.rectangle(redacted_image, (x, y), (x + w, y + h), (0, 255, 0), 2)  # Debug (Green box for non-sensitive)\n",
    "            except Exception as e:\n",
    "                print(f\"Error processing ROI: {e}\")\n",
    "\n",
    "# Save the redacted image\n",
    "cv2.imwrite(output_image_path, redacted_image)\n",
    "\n",
    "# Save extracted text to a JSON file\n",
    "with open(output_json_path, 'w') as file:\n",
    "    json.dump(extracted_text, file)\n",
    "\n",
    "# Optional: Display images\n",
    "cv2.imshow(\"Original Image\", image)\n",
    "cv2.imshow(\"Redacted Image\", redacted_image)\n",
    "cv2.waitKey(0)\n",
    "cv2.destroyAllWindows()\n",
    "\n",
    "print(f\"Redacted image saved to {output_image_path}\")\n",
    "print(f\"Extracted text saved to {output_json_path}\")\n"
   ]
  },
  {
   "cell_type": "code",
   "execution_count": null,
   "id": "b16a9cfc",
   "metadata": {},
   "outputs": [],
   "source": []
  }
 ],
 "metadata": {
  "kernelspec": {
   "display_name": "Python 3 (ipykernel)",
   "language": "python",
   "name": "python3"
  },
  "language_info": {
   "codemirror_mode": {
    "name": "ipython",
    "version": 3
   },
   "file_extension": ".py",
   "mimetype": "text/x-python",
   "name": "python",
   "nbconvert_exporter": "python",
   "pygments_lexer": "ipython3",
   "version": "3.11.5"
  }
 },
 "nbformat": 4,
 "nbformat_minor": 5
}
